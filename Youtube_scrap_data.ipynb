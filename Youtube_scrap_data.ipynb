{
 "cells": [
  {
   "cell_type": "code",
   "execution_count": 4,
   "id": "c4e5a86d",
   "metadata": {},
   "outputs": [
    {
     "name": "stdout",
     "output_type": "stream",
     "text": [
      "The Simple Automation Script my Colleagues Loved. 1.2K views 1 day ago\n",
      "The Simple Automation Script my Colleagues Loved. 1.2K views 1 day ago\n",
      "Scraping 7000 Products in 20 Minutes 2.9K views 7 days ago\n",
      "How I Scrape 7k Products with Python (code along) 6.9K views 2 weeks ago\n",
      "This will change Web Scraping forever. 7.4K views 1 month ago\n",
      "The most important Python script I ever wrote 149K views 1 month ago\n",
      "The most important Python script I ever wrote 149K views 1 month ago\n",
      "Why I chose Python & Polars for Data Analysis 4.7K views 2 months ago\n",
      "The Best Tools to Scrape Data in 2024 6K views 2 months ago\n",
      "The Simplest way to Scrape Faster. 4.6K views 2 months ago\n",
      "Scraping with Playwright 101 - Easy Mode 6.7K views 2 months ago\n",
      "Scraping with Playwright 101 - Easy Mode 6.7K views 2 months ago\n",
      "Cleaning up 1000 Scraped Products with Polars 4.7K views 3 months ago\n",
      "Website to Dataset in an instant 6.5K views 3 months ago\n",
      "This is a Scraping Cheat Code (for certain sites) 4.1K views 3 months ago\n",
      "Python dev writes bad Rust (still compiles though) 960 views 3 months ago\n",
      "Python dev writes bad Rust (still compiles though) 960 views 3 months ago\n",
      "Stop Wasting Time on Simple Excel Tasks, Use Python 9.1K views 4 months ago\n",
      "The HTML Element I check FIRST when Web Scraping 2.6K views 4 months ago\n",
      "So many sites use JSON-LD, this is how to scrape it 3.5K views 4 months ago\n",
      "More spiders, more data 2.7K views 4 months ago\n",
      "More spiders, more data 2.7K views 4 months ago\n",
      "still the best way to scrape data. 13K views 5 months ago\n",
      "Make Queues, Run Jobs, Scrape Data. 4.2K views 5 months ago\n",
      "I had no idea you could scrape this site this way 4.3K views 5 months ago\n",
      "This is the ONLY way I'll use Selenium now 6.8K views 6 months ago\n",
      "This is the ONLY way I'll use Selenium now 6.8K views 6 months ago\n",
      "Scraping HTML Tables VS Dynamic JavaScript Tables 3.4K views 7 months ago\n",
      "Scrapy in 30 Minutes (start here.) 13K views 7 months ago\n",
      "Webscraping with Python How to Save to CSV, JSON and Clean Data 4.9K views 7 months ago\n",
      "30 lines of GO Code to Scrape Anything 6.4K views 8 months ago\n",
      "30 lines of GO Code to Scrape Anything 6.4K views 8 months ago\n",
      "Web Scraping with Python - Get URLs, Extract Data 8.4K views 8 months ago\n",
      "Web Scraping with Python - How to handle pagination 8.7K views 8 months ago\n",
      "Web Scraping with Python - Start HERE 30K views 8 months ago\n"
     ]
    }
   ],
   "source": [
    "from selenium import webdriver\n",
    "from selenium.webdriver.common.by import By\n",
    "\n",
    "url ='https://www.youtube.com/@JohnWatsonRooney/videos'\n",
    "\n",
    "driver = webdriver.Chrome()\n",
    "driver.get(url)\n",
    "\n",
    "videos = driver.find_elements(By.CLASS_NAME, \"style-scope.ytd-rich-grid-row\")\n",
    "\n",
    "for video in videos:\n",
    "    title = video.find_element(By.XPATH, './/*[@id=\"video-title-link\"]').text\n",
    "    views = video.find_element(By.XPATH, './/*[@id=\"metadata-line\"]/span[1]').text\n",
    "    when = video.find_element(By.XPATH, './/*[@id=\"metadata-line\"]/span[2]').text\n",
    "    print(title, views, when)\n"
   ]
  },
  {
   "cell_type": "code",
   "execution_count": null,
   "id": "c7fe525e",
   "metadata": {},
   "outputs": [],
   "source": []
  }
 ],
 "metadata": {
  "kernelspec": {
   "display_name": "Python 3 (ipykernel)",
   "language": "python",
   "name": "python3"
  },
  "language_info": {
   "codemirror_mode": {
    "name": "ipython",
    "version": 3
   },
   "file_extension": ".py",
   "mimetype": "text/x-python",
   "name": "python",
   "nbconvert_exporter": "python",
   "pygments_lexer": "ipython3",
   "version": "3.11.4"
  }
 },
 "nbformat": 4,
 "nbformat_minor": 5
}
